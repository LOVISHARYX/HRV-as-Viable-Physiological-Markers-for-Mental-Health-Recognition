{
  "nbformat": 4,
  "nbformat_minor": 0,
  "metadata": {
    "colab": {
      "name": "Using_Neurokit_to_visulaise_extract.ipynb",
      "provenance": [],
      "authorship_tag": "ABX9TyNMVc+QvempPNTHxPWG8gl7",
      "include_colab_link": true
    },
    "kernelspec": {
      "name": "python3",
      "display_name": "Python 3"
    },
    "language_info": {
      "name": "python"
    }
  },
  "cells": [
    {
      "cell_type": "markdown",
      "metadata": {
        "id": "view-in-github",
        "colab_type": "text"
      },
      "source": [
        "<a href=\"https://colab.research.google.com/github/aryanmangal769/stress_prediction_from_HRV/blob/main/extra/Using_Neurokit_to_visulaise_extract.ipynb\" target=\"_parent\"><img src=\"https://colab.research.google.com/assets/colab-badge.svg\" alt=\"Open In Colab\"/></a>"
      ]
    },
    {
      "cell_type": "code",
      "metadata": {
        "colab": {
          "base_uri": "https://localhost:8080/"
        },
        "id": "YhSf0Ix0DuMa",
        "outputId": "d84d7528-fda7-44a5-cd8d-dbf1d5eda096"
      },
      "source": [
        "from google.colab import drive\n",
        "drive.mount('/content/drive')"
      ],
      "execution_count": null,
      "outputs": [
        {
          "output_type": "stream",
          "text": [
            "Mounted at /content/drive\n"
          ],
          "name": "stdout"
        }
      ]
    },
    {
      "cell_type": "code",
      "metadata": {
        "colab": {
          "base_uri": "https://localhost:8080/"
        },
        "id": "gt8xgXF3GhDs",
        "outputId": "1448a8d7-82eb-4f38-dea3-67ea8621394e"
      },
      "source": [
        "!pip install neurokit2"
      ],
      "execution_count": null,
      "outputs": [
        {
          "output_type": "stream",
          "text": [
            "Collecting neurokit2\n",
            "  Downloading neurokit2-0.1.3-py2.py3-none-any.whl (1.0 MB)\n",
            "\u001b[?25l\r\u001b[K     |▎                               | 10 kB 23.4 MB/s eta 0:00:01\r\u001b[K     |▋                               | 20 kB 25.7 MB/s eta 0:00:01\r\u001b[K     |█                               | 30 kB 28.7 MB/s eta 0:00:01\r\u001b[K     |█▎                              | 40 kB 28.9 MB/s eta 0:00:01\r\u001b[K     |█▋                              | 51 kB 29.8 MB/s eta 0:00:01\r\u001b[K     |██                              | 61 kB 32.6 MB/s eta 0:00:01\r\u001b[K     |██▎                             | 71 kB 32.2 MB/s eta 0:00:01\r\u001b[K     |██▋                             | 81 kB 33.9 MB/s eta 0:00:01\r\u001b[K     |███                             | 92 kB 36.0 MB/s eta 0:00:01\r\u001b[K     |███▎                            | 102 kB 36.4 MB/s eta 0:00:01\r\u001b[K     |███▋                            | 112 kB 36.4 MB/s eta 0:00:01\r\u001b[K     |████                            | 122 kB 36.4 MB/s eta 0:00:01\r\u001b[K     |████▏                           | 133 kB 36.4 MB/s eta 0:00:01\r\u001b[K     |████▌                           | 143 kB 36.4 MB/s eta 0:00:01\r\u001b[K     |████▉                           | 153 kB 36.4 MB/s eta 0:00:01\r\u001b[K     |█████▏                          | 163 kB 36.4 MB/s eta 0:00:01\r\u001b[K     |█████▌                          | 174 kB 36.4 MB/s eta 0:00:01\r\u001b[K     |█████▉                          | 184 kB 36.4 MB/s eta 0:00:01\r\u001b[K     |██████▏                         | 194 kB 36.4 MB/s eta 0:00:01\r\u001b[K     |██████▌                         | 204 kB 36.4 MB/s eta 0:00:01\r\u001b[K     |██████▉                         | 215 kB 36.4 MB/s eta 0:00:01\r\u001b[K     |███████▏                        | 225 kB 36.4 MB/s eta 0:00:01\r\u001b[K     |███████▌                        | 235 kB 36.4 MB/s eta 0:00:01\r\u001b[K     |███████▉                        | 245 kB 36.4 MB/s eta 0:00:01\r\u001b[K     |████████                        | 256 kB 36.4 MB/s eta 0:00:01\r\u001b[K     |████████▍                       | 266 kB 36.4 MB/s eta 0:00:01\r\u001b[K     |████████▊                       | 276 kB 36.4 MB/s eta 0:00:01\r\u001b[K     |█████████                       | 286 kB 36.4 MB/s eta 0:00:01\r\u001b[K     |█████████▍                      | 296 kB 36.4 MB/s eta 0:00:01\r\u001b[K     |█████████▊                      | 307 kB 36.4 MB/s eta 0:00:01\r\u001b[K     |██████████                      | 317 kB 36.4 MB/s eta 0:00:01\r\u001b[K     |██████████▍                     | 327 kB 36.4 MB/s eta 0:00:01\r\u001b[K     |██████████▊                     | 337 kB 36.4 MB/s eta 0:00:01\r\u001b[K     |███████████                     | 348 kB 36.4 MB/s eta 0:00:01\r\u001b[K     |███████████▍                    | 358 kB 36.4 MB/s eta 0:00:01\r\u001b[K     |███████████▊                    | 368 kB 36.4 MB/s eta 0:00:01\r\u001b[K     |████████████                    | 378 kB 36.4 MB/s eta 0:00:01\r\u001b[K     |████████████▎                   | 389 kB 36.4 MB/s eta 0:00:01\r\u001b[K     |████████████▋                   | 399 kB 36.4 MB/s eta 0:00:01\r\u001b[K     |█████████████                   | 409 kB 36.4 MB/s eta 0:00:01\r\u001b[K     |█████████████▎                  | 419 kB 36.4 MB/s eta 0:00:01\r\u001b[K     |█████████████▋                  | 430 kB 36.4 MB/s eta 0:00:01\r\u001b[K     |██████████████                  | 440 kB 36.4 MB/s eta 0:00:01\r\u001b[K     |██████████████▎                 | 450 kB 36.4 MB/s eta 0:00:01\r\u001b[K     |██████████████▋                 | 460 kB 36.4 MB/s eta 0:00:01\r\u001b[K     |███████████████                 | 471 kB 36.4 MB/s eta 0:00:01\r\u001b[K     |███████████████▎                | 481 kB 36.4 MB/s eta 0:00:01\r\u001b[K     |███████████████▋                | 491 kB 36.4 MB/s eta 0:00:01\r\u001b[K     |████████████████                | 501 kB 36.4 MB/s eta 0:00:01\r\u001b[K     |████████████████▏               | 512 kB 36.4 MB/s eta 0:00:01\r\u001b[K     |████████████████▌               | 522 kB 36.4 MB/s eta 0:00:01\r\u001b[K     |████████████████▉               | 532 kB 36.4 MB/s eta 0:00:01\r\u001b[K     |█████████████████▏              | 542 kB 36.4 MB/s eta 0:00:01\r\u001b[K     |█████████████████▌              | 552 kB 36.4 MB/s eta 0:00:01\r\u001b[K     |█████████████████▉              | 563 kB 36.4 MB/s eta 0:00:01\r\u001b[K     |██████████████████▏             | 573 kB 36.4 MB/s eta 0:00:01\r\u001b[K     |██████████████████▌             | 583 kB 36.4 MB/s eta 0:00:01\r\u001b[K     |██████████████████▉             | 593 kB 36.4 MB/s eta 0:00:01\r\u001b[K     |███████████████████▏            | 604 kB 36.4 MB/s eta 0:00:01\r\u001b[K     |███████████████████▌            | 614 kB 36.4 MB/s eta 0:00:01\r\u001b[K     |███████████████████▉            | 624 kB 36.4 MB/s eta 0:00:01\r\u001b[K     |████████████████████            | 634 kB 36.4 MB/s eta 0:00:01\r\u001b[K     |████████████████████▍           | 645 kB 36.4 MB/s eta 0:00:01\r\u001b[K     |████████████████████▊           | 655 kB 36.4 MB/s eta 0:00:01\r\u001b[K     |█████████████████████           | 665 kB 36.4 MB/s eta 0:00:01\r\u001b[K     |█████████████████████▍          | 675 kB 36.4 MB/s eta 0:00:01\r\u001b[K     |█████████████████████▊          | 686 kB 36.4 MB/s eta 0:00:01\r\u001b[K     |██████████████████████          | 696 kB 36.4 MB/s eta 0:00:01\r\u001b[K     |██████████████████████▍         | 706 kB 36.4 MB/s eta 0:00:01\r\u001b[K     |██████████████████████▊         | 716 kB 36.4 MB/s eta 0:00:01\r\u001b[K     |███████████████████████         | 727 kB 36.4 MB/s eta 0:00:01\r\u001b[K     |███████████████████████▍        | 737 kB 36.4 MB/s eta 0:00:01\r\u001b[K     |███████████████████████▊        | 747 kB 36.4 MB/s eta 0:00:01\r\u001b[K     |████████████████████████        | 757 kB 36.4 MB/s eta 0:00:01\r\u001b[K     |████████████████████████▎       | 768 kB 36.4 MB/s eta 0:00:01\r\u001b[K     |████████████████████████▋       | 778 kB 36.4 MB/s eta 0:00:01\r\u001b[K     |█████████████████████████       | 788 kB 36.4 MB/s eta 0:00:01\r\u001b[K     |█████████████████████████▎      | 798 kB 36.4 MB/s eta 0:00:01\r\u001b[K     |█████████████████████████▋      | 808 kB 36.4 MB/s eta 0:00:01\r\u001b[K     |██████████████████████████      | 819 kB 36.4 MB/s eta 0:00:01\r\u001b[K     |██████████████████████████▎     | 829 kB 36.4 MB/s eta 0:00:01\r\u001b[K     |██████████████████████████▋     | 839 kB 36.4 MB/s eta 0:00:01\r\u001b[K     |███████████████████████████     | 849 kB 36.4 MB/s eta 0:00:01\r\u001b[K     |███████████████████████████▎    | 860 kB 36.4 MB/s eta 0:00:01\r\u001b[K     |███████████████████████████▋    | 870 kB 36.4 MB/s eta 0:00:01\r\u001b[K     |████████████████████████████    | 880 kB 36.4 MB/s eta 0:00:01\r\u001b[K     |████████████████████████████▏   | 890 kB 36.4 MB/s eta 0:00:01\r\u001b[K     |████████████████████████████▌   | 901 kB 36.4 MB/s eta 0:00:01\r\u001b[K     |████████████████████████████▉   | 911 kB 36.4 MB/s eta 0:00:01\r\u001b[K     |█████████████████████████████▏  | 921 kB 36.4 MB/s eta 0:00:01\r\u001b[K     |█████████████████████████████▌  | 931 kB 36.4 MB/s eta 0:00:01\r\u001b[K     |█████████████████████████████▉  | 942 kB 36.4 MB/s eta 0:00:01\r\u001b[K     |██████████████████████████████▏ | 952 kB 36.4 MB/s eta 0:00:01\r\u001b[K     |██████████████████████████████▌ | 962 kB 36.4 MB/s eta 0:00:01\r\u001b[K     |██████████████████████████████▉ | 972 kB 36.4 MB/s eta 0:00:01\r\u001b[K     |███████████████████████████████▏| 983 kB 36.4 MB/s eta 0:00:01\r\u001b[K     |███████████████████████████████▌| 993 kB 36.4 MB/s eta 0:00:01\r\u001b[K     |███████████████████████████████▉| 1.0 MB 36.4 MB/s eta 0:00:01\r\u001b[K     |████████████████████████████████| 1.0 MB 36.4 MB/s \n",
            "\u001b[?25hRequirement already satisfied: scikit-learn in /usr/local/lib/python3.7/dist-packages (from neurokit2) (0.22.2.post1)\n",
            "Requirement already satisfied: numpy in /usr/local/lib/python3.7/dist-packages (from neurokit2) (1.19.5)\n",
            "Requirement already satisfied: pandas in /usr/local/lib/python3.7/dist-packages (from neurokit2) (1.1.5)\n",
            "Requirement already satisfied: scipy in /usr/local/lib/python3.7/dist-packages (from neurokit2) (1.4.1)\n",
            "Requirement already satisfied: matplotlib in /usr/local/lib/python3.7/dist-packages (from neurokit2) (3.2.2)\n",
            "Requirement already satisfied: kiwisolver>=1.0.1 in /usr/local/lib/python3.7/dist-packages (from matplotlib->neurokit2) (1.3.1)\n",
            "Requirement already satisfied: pyparsing!=2.0.4,!=2.1.2,!=2.1.6,>=2.0.1 in /usr/local/lib/python3.7/dist-packages (from matplotlib->neurokit2) (2.4.7)\n",
            "Requirement already satisfied: cycler>=0.10 in /usr/local/lib/python3.7/dist-packages (from matplotlib->neurokit2) (0.10.0)\n",
            "Requirement already satisfied: python-dateutil>=2.1 in /usr/local/lib/python3.7/dist-packages (from matplotlib->neurokit2) (2.8.1)\n",
            "Requirement already satisfied: six in /usr/local/lib/python3.7/dist-packages (from cycler>=0.10->matplotlib->neurokit2) (1.15.0)\n",
            "Requirement already satisfied: pytz>=2017.2 in /usr/local/lib/python3.7/dist-packages (from pandas->neurokit2) (2018.9)\n",
            "Requirement already satisfied: joblib>=0.11 in /usr/local/lib/python3.7/dist-packages (from scikit-learn->neurokit2) (1.0.1)\n",
            "Installing collected packages: neurokit2\n",
            "Successfully installed neurokit2-0.1.3\n"
          ],
          "name": "stdout"
        }
      ]
    },
    {
      "cell_type": "code",
      "metadata": {
        "id": "t-pq911RDwWh"
      },
      "source": [
        "import pandas as pd\n",
        "import numpy as np\n",
        "import neurokit2 as nk\n"
      ],
      "execution_count": null,
      "outputs": []
    },
    {
      "cell_type": "code",
      "metadata": {
        "colab": {
          "base_uri": "https://localhost:8080/"
        },
        "id": "fqmRdP4wD0a7",
        "outputId": "fedea57d-e67a-4f93-b41b-6b51d3f8c502"
      },
      "source": [
        "%cd /content/drive/MyDrive/HRV"
      ],
      "execution_count": null,
      "outputs": [
        {
          "output_type": "stream",
          "text": [
            "/content/drive/MyDrive/HRV\n"
          ],
          "name": "stdout"
        }
      ]
    },
    {
      "cell_type": "code",
      "metadata": {
        "colab": {
          "base_uri": "https://localhost:8080/"
        },
        "id": "SQlWkfujD3nd",
        "outputId": "99b1de02-e5f3-499b-c105-f234b5eacbd9"
      },
      "source": [
        "file=pd.read_csv(\"EMG.csv\")\n",
        "signal=file.EMG.to_list()\n",
        "print(len(signal))\n",
        "signal.remove('(mV)')\n",
        "\n",
        "signal=np.array(signal).astype(np.float)\n",
        "# signal=signal.tolist()\n",
        "print(signal)"
      ],
      "execution_count": null,
      "outputs": [
        {
          "output_type": "stream",
          "text": [
            "61500\n",
            "[-0.007 -0.003  0.002 ... -0.005  0.002 -0.006]\n"
          ],
          "name": "stdout"
        }
      ]
    },
    {
      "cell_type": "code",
      "metadata": {
        "colab": {
          "base_uri": "https://localhost:8080/"
        },
        "id": "TMiG-KKvD8F-",
        "outputId": "c5eda77e-299e-4d9c-c001-b7a94b604575"
      },
      "source": [
        "file.columns=[\"time\",\"EMG\"]\n",
        "time = file.time.to_list\n",
        "print(time)"
      ],
      "execution_count": null,
      "outputs": [
        {
          "output_type": "stream",
          "text": [
            "<bound method IndexOpsMixin.tolist of 0        (seconds)\n",
            "1                0\n",
            "2            0.065\n",
            "3            0.129\n",
            "4            0.194\n",
            "           ...    \n",
            "61495     3967.355\n",
            "61496     3967.419\n",
            "61497     3967.484\n",
            "61498     3967.548\n",
            "61499     3967.613\n",
            "Name: time, Length: 61500, dtype: object>\n"
          ],
          "name": "stdout"
        }
      ]
    },
    {
      "cell_type": "code",
      "metadata": {
        "colab": {
          "base_uri": "https://localhost:8080/"
        },
        "id": "s-EzHUO6ELEV",
        "outputId": "32d928d0-2d35-410e-b6a0-a9f0b5a4efb1"
      },
      "source": [
        "!git clone https://github.com/JingweiToo/EMG-Feature-Extraction-Toolbox.git"
      ],
      "execution_count": null,
      "outputs": [
        {
          "output_type": "stream",
          "text": [
            "Cloning into 'EMG-Feature-Extraction-Toolbox'...\n",
            "remote: Enumerating objects: 189, done.\u001b[K\n",
            "remote: Counting objects: 100% (60/60), done.\u001b[K\n",
            "remote: Compressing objects: 100% (60/60), done.\u001b[K\n",
            "remote: Total 189 (delta 36), reused 0 (delta 0), pack-reused 129\u001b[K\n",
            "Receiving objects: 100% (189/189), 65.41 KiB | 13.08 MiB/s, done.\n",
            "Resolving deltas: 100% (88/88), done.\n"
          ],
          "name": "stdout"
        }
      ]
    },
    {
      "cell_type": "code",
      "metadata": {
        "colab": {
          "base_uri": "https://localhost:8080/"
        },
        "id": "xmTvj37SEXXr",
        "outputId": "7d52ad56-9ad0-4186-e599-f31fa1a8e7e7"
      },
      "source": [
        "%cd /content/EMG-Feature-Extraction-Toolbox"
      ],
      "execution_count": null,
      "outputs": [
        {
          "output_type": "stream",
          "text": [
            "/content/EMG-Feature-Extraction-Toolbox\n"
          ],
          "name": "stdout"
        }
      ]
    },
    {
      "cell_type": "code",
      "metadata": {
        "colab": {
          "base_uri": "https://localhost:8080/",
          "height": 262
        },
        "id": "edF7yNdJG12p",
        "outputId": "2bffe22f-f7f6-4111-a997-767ab510a3e9"
      },
      "source": [
        "# Visualise biosignals\n",
        "data = pd.DataFrame({\"EMG\": signal,\n",
        "                     \"PPG\": signal})\n",
        "nk.signal_plot(data, subplots=True)"
      ],
      "execution_count": null,
      "outputs": [
        {
          "output_type": "display_data",
          "data": {
            "image/png": "[encoded data removed]",
            "text/plain": [
              "<Figure size 432x288 with 2 Axes>"
            ]
          },
          "metadata": {
            "tags": [],
            "needs_background": "light"
          }
        }
      ]
    },
    {
      "cell_type": "code",
      "metadata": {
        "colab": {
          "base_uri": "https://localhost:8080/",
          "height": 407
        },
        "id": "sHU8PZ2qLvdQ",
        "outputId": "ee7e8a78-e2d7-44a6-bb68-1fe541cc3447"
      },
      "source": [
        "signal"
      ],
      "execution_count": null,
      "outputs": [
        {
          "output_type": "execute_result",
          "data": {
            "text/html": [
              "<div>\n",
              "<style scoped>\n",
              "    .dataframe tbody tr th:only-of-type {\n",
              "        vertical-align: middle;\n",
              "    }\n",
              "\n",
              "    .dataframe tbody tr th {\n",
              "        vertical-align: top;\n",
              "    }\n",
              "\n",
              "    .dataframe thead th {\n",
              "        text-align: right;\n",
              "    }\n",
              "</style>\n",
              "<table border=\"1\" class=\"dataframe\">\n",
              "  <thead>\n",
              "    <tr style=\"text-align: right;\">\n",
              "      <th></th>\n",
              "      <th>EMG_Raw</th>\n",
              "      <th>EMG_Clean</th>\n",
              "      <th>EMG_Amplitude</th>\n",
              "      <th>EMG_Activity</th>\n",
              "      <th>EMG_Onsets</th>\n",
              "      <th>EMG_Offsets</th>\n",
              "    </tr>\n",
              "  </thead>\n",
              "  <tbody>\n",
              "    <tr>\n",
              "      <th>0</th>\n",
              "      <td>-0.007</td>\n",
              "      <td>0.000006</td>\n",
              "      <td>8.827462e-08</td>\n",
              "      <td>0.0</td>\n",
              "      <td>0</td>\n",
              "      <td>0</td>\n",
              "    </tr>\n",
              "    <tr>\n",
              "      <th>1</th>\n",
              "      <td>-0.003</td>\n",
              "      <td>-0.000885</td>\n",
              "      <td>9.894467e-08</td>\n",
              "      <td>0.0</td>\n",
              "      <td>0</td>\n",
              "      <td>0</td>\n",
              "    </tr>\n",
              "    <tr>\n",
              "      <th>2</th>\n",
              "      <td>0.002</td>\n",
              "      <td>0.001475</td>\n",
              "      <td>1.099466e-07</td>\n",
              "      <td>0.0</td>\n",
              "      <td>0</td>\n",
              "      <td>0</td>\n",
              "    </tr>\n",
              "    <tr>\n",
              "      <th>3</th>\n",
              "      <td>-0.003</td>\n",
              "      <td>-0.001602</td>\n",
              "      <td>1.212833e-07</td>\n",
              "      <td>0.0</td>\n",
              "      <td>0</td>\n",
              "      <td>0</td>\n",
              "    </tr>\n",
              "    <tr>\n",
              "      <th>4</th>\n",
              "      <td>-0.002</td>\n",
              "      <td>0.001258</td>\n",
              "      <td>1.329578e-07</td>\n",
              "      <td>0.0</td>\n",
              "      <td>0</td>\n",
              "      <td>0</td>\n",
              "    </tr>\n",
              "    <tr>\n",
              "      <th>...</th>\n",
              "      <td>...</td>\n",
              "      <td>...</td>\n",
              "      <td>...</td>\n",
              "      <td>...</td>\n",
              "      <td>...</td>\n",
              "      <td>...</td>\n",
              "    </tr>\n",
              "    <tr>\n",
              "      <th>61494</th>\n",
              "      <td>-0.009</td>\n",
              "      <td>-0.003225</td>\n",
              "      <td>9.242002e-07</td>\n",
              "      <td>0.0</td>\n",
              "      <td>0</td>\n",
              "      <td>0</td>\n",
              "    </tr>\n",
              "    <tr>\n",
              "      <th>61495</th>\n",
              "      <td>-0.008</td>\n",
              "      <td>0.002893</td>\n",
              "      <td>9.216113e-07</td>\n",
              "      <td>0.0</td>\n",
              "      <td>0</td>\n",
              "      <td>0</td>\n",
              "    </tr>\n",
              "    <tr>\n",
              "      <th>61496</th>\n",
              "      <td>-0.005</td>\n",
              "      <td>-0.002101</td>\n",
              "      <td>9.192429e-07</td>\n",
              "      <td>0.0</td>\n",
              "      <td>0</td>\n",
              "      <td>0</td>\n",
              "    </tr>\n",
              "    <tr>\n",
              "      <th>61497</th>\n",
              "      <td>0.002</td>\n",
              "      <td>0.001040</td>\n",
              "      <td>9.171124e-07</td>\n",
              "      <td>0.0</td>\n",
              "      <td>0</td>\n",
              "      <td>0</td>\n",
              "    </tr>\n",
              "    <tr>\n",
              "      <th>61498</th>\n",
              "      <td>-0.006</td>\n",
              "      <td>0.000115</td>\n",
              "      <td>9.152330e-07</td>\n",
              "      <td>0.0</td>\n",
              "      <td>0</td>\n",
              "      <td>0</td>\n",
              "    </tr>\n",
              "  </tbody>\n",
              "</table>\n",
              "<p>61499 rows × 6 columns</p>\n",
              "</div>"
            ],
            "text/plain": [
              "       EMG_Raw  EMG_Clean  EMG_Amplitude  EMG_Activity  EMG_Onsets  EMG_Offsets\n",
              "0       -0.007   0.000006   8.827462e-08           0.0           0            0\n",
              "1       -0.003  -0.000885   9.894467e-08           0.0           0            0\n",
              "2        0.002   0.001475   1.099466e-07           0.0           0            0\n",
              "3       -0.003  -0.001602   1.212833e-07           0.0           0            0\n",
              "4       -0.002   0.001258   1.329578e-07           0.0           0            0\n",
              "...        ...        ...            ...           ...         ...          ...\n",
              "61494   -0.009  -0.003225   9.242002e-07           0.0           0            0\n",
              "61495   -0.008   0.002893   9.216113e-07           0.0           0            0\n",
              "61496   -0.005  -0.002101   9.192429e-07           0.0           0            0\n",
              "61497    0.002   0.001040   9.171124e-07           0.0           0            0\n",
              "61498   -0.006   0.000115   9.152330e-07           0.0           0            0\n",
              "\n",
              "[61499 rows x 6 columns]"
            ]
          },
          "metadata": {
            "tags": []
          },
          "execution_count": 44
        }
      ]
    },
    {
      "cell_type": "code",
      "metadata": {
        "id": "h_paN9CuG69k"
      },
      "source": [
        "# Process it\n",
        "output, info = nk.emg_process(signal, sampling_rate=1000)\n",
        "# Visualise the processing\n",
        "nk.emg_plot(output, sampling_rate=1000)"
      ],
      "execution_count": null,
      "outputs": []
    },
    {
      "cell_type": "code",
      "metadata": {
        "id": "k6fR2UYwQCEi"
      },
      "source": [
        ""
      ],
      "execution_count": null,
      "outputs": []
    },
    {
      "cell_type": "code",
      "metadata": {
        "id": "Jw3xaNmgQB7H"
      },
      "source": [
        ""
      ],
      "execution_count": null,
      "outputs": []
    }
  ]
}